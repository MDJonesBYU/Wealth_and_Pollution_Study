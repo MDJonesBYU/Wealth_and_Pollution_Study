{
 "cells": [
  {
   "cell_type": "markdown",
   "id": "958221cb",
   "metadata": {},
   "source": [
    "### Purpose: \n",
    "In this notebook we will load the initial datasets and apply desired cleaning transformations so that we can effectively perform multivariate exploratory data analysis. "
   ]
  }
 ],
 "metadata": {
  "kernelspec": {
   "display_name": "Python 3 (ipykernel)",
   "language": "python",
   "name": "python3"
  },
  "language_info": {
   "codemirror_mode": {
    "name": "ipython",
    "version": 3
   },
   "file_extension": ".py",
   "mimetype": "text/x-python",
   "name": "python",
   "nbconvert_exporter": "python",
   "pygments_lexer": "ipython3",
   "version": "3.11.5"
  }
 },
 "nbformat": 4,
 "nbformat_minor": 5
}
